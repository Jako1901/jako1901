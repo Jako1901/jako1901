{
 "cells": [
  {
   "cell_type": "markdown",
   "metadata": {},
   "source": [
    "# Analysis of UEFA Euro Cup Matches\n",
    "\n",
    "## Introduction\n",
    "\n",
    "The UEFA European Football Championship, commonly known as the UEFA European Championship and informally as the Euros, is the primary association football competition contested by the senior men's national teams of the members of the Union of European Football Associations (UEFA), determining the continental champion of Europe. Held every four years since 1960, in the even-numbered year between World Cup tournaments, it was originally called the European Nations' Cup, changing to the current name in 1968. Starting with the 1996 tournament, specific championships are often referred to in the form \"UEFA Euro\"; this format has since been retroactively applied to earlier tournaments.\n",
    "Prior to entering the tournament, all teams other than the host nations (which qualify automatically) compete in a qualifying process. Until 2016 the championship winners could compete in the following FIFA Confederations Cup, but were not obliged to do so. \n",
    "The 15 European Championship tournaments have been won by ten national teams: Germany and Spain each have won three titles, France has two titles, and the Soviet Union, Italy, Czechoslovakia, Netherlands, Denmark, Greece and Portugal have won one title each. To date, Spain is the only team in history to have won consecutive titles, doing so in 2008 and 2012. It is the second most watched football tournament in the world after the FIFA World Cup. The Euro 2012 final was watched by a global audience of around 300 million.\n",
    "The most recent championship, hosted by France in 2016, was won by Portugal, who beat France 1–0 in the final at the Stade de France in Saint-Denis after extra time. The final also attracted 284 million viewers which is the second most viewed game in European tournament history.\n",
    "Source(https://en.wikipedia.org/wiki/UEFA_European_Championship)\n",
    "\n",
    "## Data description\n",
    "\n",
    "In the whole history of UEFA played a lot matches, after FIFA World Cup the most popular cup and therefore it is famous cup which plays 1 time for 4 years. All European countries which qualified plays in this cup. \n",
    "Analysis was based on all matches from since 1960 due 2016. Below is data that we will be scraped and used for our analysis:\n",
    "\n",
    "Date – Date of the matches\n",
    "\n",
    "Time – Time of the matches\n",
    "\n",
    "HTN – Home team name \n",
    "\n",
    "ATN – Away team name\n",
    "\n",
    "HTG – Home team goals\n",
    "\n",
    "ATG – Away team goals\n",
    "\n",
    "Attendance – how many people was in match\n",
    "\n",
    "Year – Year of the match\n",
    "\n",
    "PlayerName – Name of Player\n",
    "\n",
    "Goals - Goals of Players\n",
    "\n",
    "TS – Top scorers of Cup history\n",
    "\n",
    "## Research questions\n",
    "\n",
    "In this project, I will focus on several parts of data like:\n",
    "\n",
    "Analyze the TOP 10 scorers of Cup\n",
    "\n",
    "Analyze the attendance of Cup\n",
    "\n",
    "Analyze the Home team goals of each Cup\n",
    "\n",
    "Analyze the Away team goals of each Cup\n",
    "\n",
    "Analyze the goals of each team\n",
    "\n",
    "## Data manipulation\n",
    "\n",
    "Drop columns that we will not use\n",
    "\n",
    "check for the inconsistencies"
   ]
  },
  {
   "cell_type": "code",
   "execution_count": 12,
   "metadata": {},
   "outputs": [],
   "source": [
    "#import libraries\n",
    "import pandas as pd\n",
    "import numpy as np\n",
    "import seaborn as sns \n",
    "import matplotlib.pyplot as plt\n",
    "\n",
    "#import datasets\n",
    "df1=pd.read_csv('Uefa Euro Cup All Matches.csv')\n",
    "df2=pd.read_csv('Uefa Euro Cup All Players.csv')\n",
    "df1.head(5)\n",
    "df2.head(5)\n",
    "\n",
    "#drop columns that don't needed\n",
    "drop = (['Caps','Club','ShirtNumber','DateofBirth(age)'])\n",
    "df2.drop(drop, axis = 'columns', inplace = True)\n",
    "\n",
    "drop = (['Stage','SpecialWinConditions','Stadium','City'])\n",
    "df1.drop(drop, axis = 'columns', inplace = True)"
   ]
  },
  {
   "cell_type": "markdown",
   "metadata": {
    "scrolled": true
   },
   "source": [
    "I have dropped some columns from two data frames."
   ]
  },
  {
   "cell_type": "markdown",
   "metadata": {},
   "source": [
    "I need to check in Data frame 1 is there any NaN values"
   ]
  },
  {
   "cell_type": "code",
   "execution_count": 14,
   "metadata": {},
   "outputs": [
    {
     "data": {
      "text/plain": [
       "Date             False\n",
       "Time             False\n",
       "HomeTeamName     False\n",
       "AwayTeamName     False\n",
       "HomeTeamGoals    False\n",
       "AwayTeamGoals    False\n",
       "Attendance       False\n",
       "Year             False\n",
       "dtype: bool"
      ]
     },
     "execution_count": 14,
     "metadata": {},
     "output_type": "execute_result"
    }
   ],
   "source": [
    "#Check for NaN values\n",
    "df1.isnull().any()"
   ]
  },
  {
   "cell_type": "markdown",
   "metadata": {},
   "source": [
    "In the first data frame i have no missed data values"
   ]
  },
  {
   "cell_type": "markdown",
   "metadata": {},
   "source": [
    "I need to check Data frame 2 for Nan values"
   ]
  },
  {
   "cell_type": "code",
   "execution_count": 29,
   "metadata": {},
   "outputs": [
    {
     "data": {
      "text/plain": [
       "Position               False\n",
       "PlayerName(Captain)    False\n",
       "Goals                   True\n",
       "Country                False\n",
       "Year                   False\n",
       "dtype: bool"
      ]
     },
     "execution_count": 29,
     "metadata": {},
     "output_type": "execute_result"
    }
   ],
   "source": [
    "#Checking for NaN values\n",
    "df2.isnull().any()"
   ]
  },
  {
   "cell_type": "markdown",
   "metadata": {},
   "source": [
    "As we can see, there is NaN values in Goals column"
   ]
  },
  {
   "cell_type": "code",
   "execution_count": 16,
   "metadata": {},
   "outputs": [
    {
     "data": {
      "text/plain": [
       "Position                  0\n",
       "PlayerName(Captain)       0\n",
       "Goals                  2102\n",
       "Country                   0\n",
       "Year                      0\n",
       "dtype: int64"
      ]
     },
     "execution_count": 16,
     "metadata": {},
     "output_type": "execute_result"
    }
   ],
   "source": [
    "df2.isnull().sum()"
   ]
  },
  {
   "cell_type": "markdown",
   "metadata": {},
   "source": [
    "We have 2102 NaN values, so we need to change them by 0 for fututre analysis"
   ]
  },
  {
   "cell_type": "code",
   "execution_count": 25,
   "metadata": {},
   "outputs": [
    {
     "data": {
      "text/plain": [
       "(3410, 5)"
      ]
     },
     "execution_count": 25,
     "metadata": {},
     "output_type": "execute_result"
    }
   ],
   "source": [
    "df2.shape"
   ]
  },
  {
   "cell_type": "markdown",
   "metadata": {},
   "source": [
    "In the second data frame we have 3410 rows. But, in this rows 2102 rows have NaN values, so we need to replace them by 0"
   ]
  },
  {
   "cell_type": "markdown",
   "metadata": {},
   "source": [
    "In the second i have NaN values in the Goals column, but it should be zero. If there NaN values, that mean player didn't score, so we conclude it should be 0"
   ]
  },
  {
   "cell_type": "code",
   "execution_count": 28,
   "metadata": {},
   "outputs": [],
   "source": [
    "#NaN replaced by 0\n",
    "df2.replace(\"0\",np.nan, inplace = True)"
   ]
  },
  {
   "cell_type": "code",
   "execution_count": 21,
   "metadata": {},
   "outputs": [
    {
     "data": {
      "text/html": [
       "<div>\n",
       "<style scoped>\n",
       "    .dataframe tbody tr th:only-of-type {\n",
       "        vertical-align: middle;\n",
       "    }\n",
       "\n",
       "    .dataframe tbody tr th {\n",
       "        vertical-align: top;\n",
       "    }\n",
       "\n",
       "    .dataframe thead th {\n",
       "        text-align: right;\n",
       "    }\n",
       "</style>\n",
       "<table border=\"1\" class=\"dataframe\">\n",
       "  <thead>\n",
       "    <tr style=\"text-align: right;\">\n",
       "      <th></th>\n",
       "      <th>Position</th>\n",
       "      <th>PlayerName(Captain)</th>\n",
       "      <th>Goals</th>\n",
       "      <th>Country</th>\n",
       "      <th>Year</th>\n",
       "    </tr>\n",
       "  </thead>\n",
       "  <tbody>\n",
       "    <tr>\n",
       "      <th>0</th>\n",
       "      <td>GK</td>\n",
       "      <td>Justín Javorek</td>\n",
       "      <td>0</td>\n",
       "      <td>Czechoslovakia</td>\n",
       "      <td>1960</td>\n",
       "    </tr>\n",
       "    <tr>\n",
       "      <th>1</th>\n",
       "      <td>GK</td>\n",
       "      <td>Viliam Schrojf</td>\n",
       "      <td>0</td>\n",
       "      <td>Czechoslovakia</td>\n",
       "      <td>1960</td>\n",
       "    </tr>\n",
       "    <tr>\n",
       "      <th>2</th>\n",
       "      <td>DF</td>\n",
       "      <td>Ladislav Novák  (  captain  )</td>\n",
       "      <td>0</td>\n",
       "      <td>Czechoslovakia</td>\n",
       "      <td>1960</td>\n",
       "    </tr>\n",
       "    <tr>\n",
       "      <th>3</th>\n",
       "      <td>DF</td>\n",
       "      <td>Ján Popluhár</td>\n",
       "      <td>0</td>\n",
       "      <td>Czechoslovakia</td>\n",
       "      <td>1960</td>\n",
       "    </tr>\n",
       "    <tr>\n",
       "      <th>4</th>\n",
       "      <td>DF</td>\n",
       "      <td>František Šafránek</td>\n",
       "      <td>0</td>\n",
       "      <td>Czechoslovakia</td>\n",
       "      <td>1960</td>\n",
       "    </tr>\n",
       "  </tbody>\n",
       "</table>\n",
       "</div>"
      ],
      "text/plain": [
       "  Position            PlayerName(Captain) Goals         Country  Year\n",
       "0       GK                 Justín Javorek     0  Czechoslovakia  1960\n",
       "1       GK                 Viliam Schrojf     0  Czechoslovakia  1960\n",
       "2       DF  Ladislav Novák  (  captain  )     0  Czechoslovakia  1960\n",
       "3       DF                   Ján Popluhár     0  Czechoslovakia  1960\n",
       "4       DF             František Šafránek     0  Czechoslovakia  1960"
      ]
     },
     "execution_count": 21,
     "metadata": {},
     "output_type": "execute_result"
    }
   ],
   "source": [
    "#Show the data frame 2\n",
    "df2.head()"
   ]
  },
  {
   "cell_type": "markdown",
   "metadata": {},
   "source": [
    "I have changed the NaN to 0"
   ]
  },
  {
   "cell_type": "markdown",
   "metadata": {},
   "source": [
    "I need to check is there any duplicate values in my dataframes"
   ]
  },
  {
   "cell_type": "code",
   "execution_count": 22,
   "metadata": {},
   "outputs": [
    {
     "name": "stdout",
     "output_type": "stream",
     "text": [
      "0      False\n",
      "1      False\n",
      "2      False\n",
      "3      False\n",
      "4      False\n",
      "       ...  \n",
      "281    False\n",
      "282    False\n",
      "283    False\n",
      "284    False\n",
      "285    False\n",
      "Length: 286, dtype: bool\n"
     ]
    }
   ],
   "source": [
    "#Checking for duplicates\n",
    "print(df1.duplicated())"
   ]
  },
  {
   "cell_type": "code",
   "execution_count": 23,
   "metadata": {},
   "outputs": [
    {
     "name": "stdout",
     "output_type": "stream",
     "text": [
      "0       False\n",
      "1       False\n",
      "2       False\n",
      "3       False\n",
      "4       False\n",
      "        ...  \n",
      "3405    False\n",
      "3406    False\n",
      "3407    False\n",
      "3408    False\n",
      "3409    False\n",
      "Length: 3410, dtype: bool\n"
     ]
    }
   ],
   "source": [
    "#Checking for duplicates\n",
    "print(df2.duplicated())"
   ]
  },
  {
   "cell_type": "markdown",
   "metadata": {},
   "source": [
    "There is no duplicated values"
   ]
  }
 ],
 "metadata": {
  "kernelspec": {
   "display_name": "Python 3",
   "language": "python",
   "name": "python3"
  },
  "language_info": {
   "codemirror_mode": {
    "name": "ipython",
    "version": 3
   },
   "file_extension": ".py",
   "mimetype": "text/x-python",
   "name": "python",
   "nbconvert_exporter": "python",
   "pygments_lexer": "ipython3",
   "version": "3.8.3"
  }
 },
 "nbformat": 4,
 "nbformat_minor": 4
}
