{
 "cells": [
  {
   "cell_type": "markdown",
   "metadata": {},
   "source": [
    "# Analysis of UEFA Euro Cup Matches\n",
    "\n",
    "## 1. Introduction\n",
    "\n",
    "The UEFA European Football Championship, commonly known as the UEFA European Championship and informally as the Euros, is the primary association football competition contested by the senior men's national teams of the members of the Union of European Football Associations (UEFA), determining the continental champion of Europe. Held every four years since 1960, in the even-numbered year between World Cup tournaments, it was originally called the European Nations' Cup, changing to the current name in 1968. Starting with the 1996 tournament, specific championships are often referred to in the form \"UEFA Euro\"; this format has since been retroactively applied to earlier tournaments.\n",
    "Prior to entering the tournament, all teams other than the host nations (which qualify automatically) compete in a qualifying process. Until 2016 the championship winners could compete in the following FIFA Confederations Cup, but were not obliged to do so. \n",
    "The 15 European Championship tournaments have been won by ten national teams: Germany and Spain each have won three titles, France has two titles, and the Soviet Union, Italy, Czechoslovakia, Netherlands, Denmark, Greece and Portugal have won one title each. To date, Spain is the only team in history to have won consecutive titles, doing so in 2008 and 2012. It is the second most watched football tournament in the world after the FIFA World Cup. The Euro 2012 final was watched by a global audience of around 300 million.\n",
    "The most recent championship, hosted by France in 2016, was won by Portugal, who beat France 1–0 in the final at the Stade de France in Saint-Denis after extra time. The final also attracted 284 million viewers which is the second most viewed game in European tournament history.\n",
    "Source(https://en.wikipedia.org/wiki/UEFA_European_Championship)\n",
    "\n",
    "## 2. Data description\n",
    "\n",
    "In the whole history of UEFA played a lot matches, after FIFA World Cup the most popular cup and therefore it is famous cup which plays 1 time for 4 years. All European countries which qualified plays in this cup. \n",
    "Analysis was based on all matches from since 1960 due 2016. Below is data that we will be scraped and used for our analysis:\n",
    "\n",
    "Date – Date of the matches\n",
    "\n",
    "Time – Time of the matches\n",
    "\n",
    "HTN – Home team name \n",
    "\n",
    "ATN – Away team name\n",
    "\n",
    "HTG – Home team goals\n",
    "\n",
    "ATG – Away team goals\n",
    "\n",
    "Attendance – how many people was in match\n",
    "\n",
    "Year – Year of the match\n",
    "\n",
    "PlayerName – Name of Player\n",
    "\n",
    "Goals - Goals of Players\n",
    "\n",
    "TS – Top scorers of Cup history\n",
    "\n",
    "## 3. Research questions\n",
    "\n",
    "In this project, I will focus on several parts of data like:\n",
    "\n",
    "Analyze the TOP 10 scorers of Cup\n",
    "\n",
    "Analyze the attendance of Cup\n",
    "\n",
    "Analyze the Home team goals per match of each Cup\n",
    "\n",
    "Analyze the Away team goals per match of each Cup\n",
    "\n",
    "Analyze the positions of players\n",
    "\n",
    "## 4. Data manipulation\n",
    "\n",
    "Drop columns that we will not use\n",
    "\n",
    "check for the inconsistencies"
   ]
  },
  {
   "cell_type": "code",
   "execution_count": 93,
   "metadata": {},
   "outputs": [],
   "source": [
    "#import libraries\n",
    "import pandas as pd\n",
    "import numpy as np\n",
    "import seaborn as sns \n",
    "import matplotlib.pyplot as plt\n",
    "\n",
    "#import datasets\n",
    "df1=pd.read_csv('Uefa Euro Cup All Matches.csv')\n",
    "df2=pd.read_csv('Uefa Euro Cup All Players.csv')\n",
    "df1.head(5)\n",
    "df2.head(5)\n",
    "\n",
    "#drop columns that don't needed\n",
    "drop = (['Caps','Club','ShirtNumber'])\n",
    "df2.drop(drop, axis = 'columns', inplace = True)\n",
    "\n",
    "drop = (['Stage','SpecialWinConditions','Stadium','City'])\n",
    "df1.drop(drop, axis = 'columns', inplace = True)"
   ]
  },
  {
   "cell_type": "markdown",
   "metadata": {
    "scrolled": true
   },
   "source": [
    "I have dropped some columns from two data frames."
   ]
  },
  {
   "cell_type": "markdown",
   "metadata": {},
   "source": [
    "I need to check in Data frame 1 is there any NaN values"
   ]
  },
  {
   "cell_type": "code",
   "execution_count": 30,
   "metadata": {},
   "outputs": [
    {
     "data": {
      "text/plain": [
       "Date             False\n",
       "Time             False\n",
       "HomeTeamName     False\n",
       "AwayTeamName     False\n",
       "HomeTeamGoals    False\n",
       "AwayTeamGoals    False\n",
       "Attendance       False\n",
       "Year             False\n",
       "dtype: bool"
      ]
     },
     "execution_count": 30,
     "metadata": {},
     "output_type": "execute_result"
    }
   ],
   "source": [
    "#Check for NaN values\n",
    "df1.isnull().any()"
   ]
  },
  {
   "cell_type": "markdown",
   "metadata": {},
   "source": [
    "In the first data frame i have no missed data values"
   ]
  },
  {
   "cell_type": "markdown",
   "metadata": {},
   "source": [
    "I need to check Data frame 2 for Nan values"
   ]
  },
  {
   "cell_type": "code",
   "execution_count": 31,
   "metadata": {},
   "outputs": [
    {
     "data": {
      "text/plain": [
       "Position               False\n",
       "PlayerName(Captain)    False\n",
       "Goals                   True\n",
       "Country                False\n",
       "Year                   False\n",
       "dtype: bool"
      ]
     },
     "execution_count": 31,
     "metadata": {},
     "output_type": "execute_result"
    }
   ],
   "source": [
    "#Checking for NaN values\n",
    "df2.isnull().any()"
   ]
  },
  {
   "cell_type": "markdown",
   "metadata": {},
   "source": [
    "As we can see, there is NaN values in Goals column"
   ]
  },
  {
   "cell_type": "code",
   "execution_count": 32,
   "metadata": {},
   "outputs": [
    {
     "data": {
      "text/plain": [
       "Position                  0\n",
       "PlayerName(Captain)       0\n",
       "Goals                  2102\n",
       "Country                   0\n",
       "Year                      0\n",
       "dtype: int64"
      ]
     },
     "execution_count": 32,
     "metadata": {},
     "output_type": "execute_result"
    }
   ],
   "source": [
    "df2.isnull().sum()"
   ]
  },
  {
   "cell_type": "markdown",
   "metadata": {},
   "source": [
    "We have 2102 NaN values, so we need to change them by 0 for fututre analysis"
   ]
  },
  {
   "cell_type": "code",
   "execution_count": 33,
   "metadata": {},
   "outputs": [
    {
     "data": {
      "text/plain": [
       "(3410, 5)"
      ]
     },
     "execution_count": 33,
     "metadata": {},
     "output_type": "execute_result"
    }
   ],
   "source": [
    "df2.shape"
   ]
  },
  {
   "cell_type": "markdown",
   "metadata": {},
   "source": [
    "In the second data frame we have 3410 rows. But, in this rows 2102 rows have NaN values, so we need to replace them by 0"
   ]
  },
  {
   "cell_type": "markdown",
   "metadata": {},
   "source": [
    "In the second i have NaN values in the Goals column, but it should be zero. If there NaN values, that mean player didn't score, so we conclude it should be 0"
   ]
  },
  {
   "cell_type": "code",
   "execution_count": 34,
   "metadata": {},
   "outputs": [],
   "source": [
    "#NaN replaced by 0\n",
    "df2.replace(\"0\",np.nan, inplace = True)"
   ]
  },
  {
   "cell_type": "code",
   "execution_count": 35,
   "metadata": {},
   "outputs": [
    {
     "data": {
      "text/html": [
       "<div>\n",
       "<style scoped>\n",
       "    .dataframe tbody tr th:only-of-type {\n",
       "        vertical-align: middle;\n",
       "    }\n",
       "\n",
       "    .dataframe tbody tr th {\n",
       "        vertical-align: top;\n",
       "    }\n",
       "\n",
       "    .dataframe thead th {\n",
       "        text-align: right;\n",
       "    }\n",
       "</style>\n",
       "<table border=\"1\" class=\"dataframe\">\n",
       "  <thead>\n",
       "    <tr style=\"text-align: right;\">\n",
       "      <th></th>\n",
       "      <th>Position</th>\n",
       "      <th>PlayerName(Captain)</th>\n",
       "      <th>Goals</th>\n",
       "      <th>Country</th>\n",
       "      <th>Year</th>\n",
       "    </tr>\n",
       "  </thead>\n",
       "  <tbody>\n",
       "    <tr>\n",
       "      <th>0</th>\n",
       "      <td>GK</td>\n",
       "      <td>Justín Javorek</td>\n",
       "      <td>NaN</td>\n",
       "      <td>Czechoslovakia</td>\n",
       "      <td>1960</td>\n",
       "    </tr>\n",
       "    <tr>\n",
       "      <th>1</th>\n",
       "      <td>GK</td>\n",
       "      <td>Viliam Schrojf</td>\n",
       "      <td>NaN</td>\n",
       "      <td>Czechoslovakia</td>\n",
       "      <td>1960</td>\n",
       "    </tr>\n",
       "    <tr>\n",
       "      <th>2</th>\n",
       "      <td>DF</td>\n",
       "      <td>Ladislav Novák  (  captain  )</td>\n",
       "      <td>NaN</td>\n",
       "      <td>Czechoslovakia</td>\n",
       "      <td>1960</td>\n",
       "    </tr>\n",
       "    <tr>\n",
       "      <th>3</th>\n",
       "      <td>DF</td>\n",
       "      <td>Ján Popluhár</td>\n",
       "      <td>NaN</td>\n",
       "      <td>Czechoslovakia</td>\n",
       "      <td>1960</td>\n",
       "    </tr>\n",
       "    <tr>\n",
       "      <th>4</th>\n",
       "      <td>DF</td>\n",
       "      <td>František Šafránek</td>\n",
       "      <td>NaN</td>\n",
       "      <td>Czechoslovakia</td>\n",
       "      <td>1960</td>\n",
       "    </tr>\n",
       "  </tbody>\n",
       "</table>\n",
       "</div>"
      ],
      "text/plain": [
       "  Position            PlayerName(Captain)  Goals         Country  Year\n",
       "0       GK                 Justín Javorek    NaN  Czechoslovakia  1960\n",
       "1       GK                 Viliam Schrojf    NaN  Czechoslovakia  1960\n",
       "2       DF  Ladislav Novák  (  captain  )    NaN  Czechoslovakia  1960\n",
       "3       DF                   Ján Popluhár    NaN  Czechoslovakia  1960\n",
       "4       DF             František Šafránek    NaN  Czechoslovakia  1960"
      ]
     },
     "execution_count": 35,
     "metadata": {},
     "output_type": "execute_result"
    }
   ],
   "source": [
    "#Show the data frame 2\n",
    "df2.head()"
   ]
  },
  {
   "cell_type": "markdown",
   "metadata": {},
   "source": [
    "I have changed the NaN to 0"
   ]
  },
  {
   "cell_type": "markdown",
   "metadata": {},
   "source": [
    "I need to check is there any duplicate values in my dataframes"
   ]
  },
  {
   "cell_type": "code",
   "execution_count": 36,
   "metadata": {},
   "outputs": [
    {
     "name": "stdout",
     "output_type": "stream",
     "text": [
      "0      False\n",
      "1      False\n",
      "2      False\n",
      "3      False\n",
      "4      False\n",
      "       ...  \n",
      "281    False\n",
      "282    False\n",
      "283    False\n",
      "284    False\n",
      "285    False\n",
      "Length: 286, dtype: bool\n"
     ]
    }
   ],
   "source": [
    "#Checking for duplicates\n",
    "print(df1.duplicated())"
   ]
  },
  {
   "cell_type": "code",
   "execution_count": 37,
   "metadata": {},
   "outputs": [
    {
     "name": "stdout",
     "output_type": "stream",
     "text": [
      "0       False\n",
      "1       False\n",
      "2       False\n",
      "3       False\n",
      "4       False\n",
      "        ...  \n",
      "3405    False\n",
      "3406    False\n",
      "3407    False\n",
      "3408    False\n",
      "3409    False\n",
      "Length: 3410, dtype: bool\n"
     ]
    }
   ],
   "source": [
    "#Checking for duplicates\n",
    "print(df2.duplicated())"
   ]
  },
  {
   "cell_type": "markdown",
   "metadata": {},
   "source": [
    "There is no duplicated values"
   ]
  },
  {
   "cell_type": "markdown",
   "metadata": {},
   "source": [
    "## 5. Data visualisation\n",
    "\n",
    "In this part i will answer to my research questions and represent it in graphs"
   ]
  },
  {
   "cell_type": "markdown",
   "metadata": {},
   "source": [
    "#### 5.1 Analyze the TOP 10 scorers of Cup:"
   ]
  },
  {
   "cell_type": "markdown",
   "metadata": {},
   "source": [
    "Data preparation:\n",
    "* We will prepare out table for barplot\n",
    "* Visualizate it in barplot"
   ]
  },
  {
   "cell_type": "code",
   "execution_count": 38,
   "metadata": {},
   "outputs": [
    {
     "data": {
      "text/html": [
       "<div>\n",
       "<style scoped>\n",
       "    .dataframe tbody tr th:only-of-type {\n",
       "        vertical-align: middle;\n",
       "    }\n",
       "\n",
       "    .dataframe tbody tr th {\n",
       "        vertical-align: top;\n",
       "    }\n",
       "\n",
       "    .dataframe thead th {\n",
       "        text-align: right;\n",
       "    }\n",
       "</style>\n",
       "<table border=\"1\" class=\"dataframe\">\n",
       "  <thead>\n",
       "    <tr style=\"text-align: right;\">\n",
       "      <th></th>\n",
       "      <th>PlayerName(Captain)</th>\n",
       "      <th>Goals</th>\n",
       "    </tr>\n",
       "  </thead>\n",
       "  <tbody>\n",
       "    <tr>\n",
       "      <th>0</th>\n",
       "      <td>Aaron Hughes</td>\n",
       "      <td>1.0</td>\n",
       "    </tr>\n",
       "    <tr>\n",
       "      <th>1</th>\n",
       "      <td>Aaron Ramsey</td>\n",
       "      <td>10.0</td>\n",
       "    </tr>\n",
       "    <tr>\n",
       "      <th>2</th>\n",
       "      <td>Abdullah Ercan</td>\n",
       "      <td>NaN</td>\n",
       "    </tr>\n",
       "    <tr>\n",
       "      <th>3</th>\n",
       "      <td>Abel Xavier</td>\n",
       "      <td>NaN</td>\n",
       "    </tr>\n",
       "    <tr>\n",
       "      <th>4</th>\n",
       "      <td>Abelardo</td>\n",
       "      <td>NaN</td>\n",
       "    </tr>\n",
       "  </tbody>\n",
       "</table>\n",
       "</div>"
      ],
      "text/plain": [
       "  PlayerName(Captain)  Goals\n",
       "0        Aaron Hughes    1.0\n",
       "1        Aaron Ramsey   10.0\n",
       "2      Abdullah Ercan    NaN\n",
       "3         Abel Xavier    NaN\n",
       "4            Abelardo    NaN"
      ]
     },
     "execution_count": 38,
     "metadata": {},
     "output_type": "execute_result"
    }
   ],
   "source": [
    "#Create a dataframe for analyzing total goals of each player\n",
    "goal_df = df2[[\"PlayerName(Captain)\", \"Goals\"]]\n",
    "\n",
    "#Apply groupby on players to show only Goals and Players\n",
    "goal_grouped = goal_df.groupby(\"PlayerName(Captain)\", as_index = False).mean()\n",
    "\n",
    "goal_grouped.head()"
   ]
  },
  {
   "cell_type": "code",
   "execution_count": 39,
   "metadata": {},
   "outputs": [
    {
     "data": {
      "text/html": [
       "<div>\n",
       "<style scoped>\n",
       "    .dataframe tbody tr th:only-of-type {\n",
       "        vertical-align: middle;\n",
       "    }\n",
       "\n",
       "    .dataframe tbody tr th {\n",
       "        vertical-align: top;\n",
       "    }\n",
       "\n",
       "    .dataframe thead th {\n",
       "        text-align: right;\n",
       "    }\n",
       "</style>\n",
       "<table border=\"1\" class=\"dataframe\">\n",
       "  <thead>\n",
       "    <tr style=\"text-align: right;\">\n",
       "      <th></th>\n",
       "      <th>PlayerName(Captain)</th>\n",
       "      <th>Goals</th>\n",
       "    </tr>\n",
       "  </thead>\n",
       "  <tbody>\n",
       "    <tr>\n",
       "      <th>3281</th>\n",
       "      <td>Robbie Keane  (  captain  )</td>\n",
       "      <td>67.0</td>\n",
       "    </tr>\n",
       "    <tr>\n",
       "      <th>2638</th>\n",
       "      <td>Miroslav Klose</td>\n",
       "      <td>64.0</td>\n",
       "    </tr>\n",
       "    <tr>\n",
       "      <th>3304</th>\n",
       "      <td>Zlatan Ibrahimović  (  captain  )</td>\n",
       "      <td>62.0</td>\n",
       "    </tr>\n",
       "    <tr>\n",
       "      <th>3324</th>\n",
       "      <td>Cristiano Ronaldo  (  captain  )</td>\n",
       "      <td>58.0</td>\n",
       "    </tr>\n",
       "    <tr>\n",
       "      <th>2130</th>\n",
       "      <td>Jan Koller</td>\n",
       "      <td>54.0</td>\n",
       "    </tr>\n",
       "    <tr>\n",
       "      <th>2729</th>\n",
       "      <td>Robbie Keane  (  captain  )</td>\n",
       "      <td>53.0</td>\n",
       "    </tr>\n",
       "    <tr>\n",
       "      <th>2959</th>\n",
       "      <td>Wayne Rooney  (  captain  )</td>\n",
       "      <td>52.0</td>\n",
       "    </tr>\n",
       "    <tr>\n",
       "      <th>3051</th>\n",
       "      <td>Lukas Podolski</td>\n",
       "      <td>48.0</td>\n",
       "    </tr>\n",
       "    <tr>\n",
       "      <th>2772</th>\n",
       "      <td>Andriy Shevchenko  (  captain  )</td>\n",
       "      <td>48.0</td>\n",
       "    </tr>\n",
       "    <tr>\n",
       "      <th>2317</th>\n",
       "      <td>Thierry Henry</td>\n",
       "      <td>44.0</td>\n",
       "    </tr>\n",
       "  </tbody>\n",
       "</table>\n",
       "</div>"
      ],
      "text/plain": [
       "                    PlayerName(Captain)  Goals\n",
       "3281        Robbie Keane  (  captain  )   67.0\n",
       "2638                     Miroslav Klose   64.0\n",
       "3304  Zlatan Ibrahimović  (  captain  )   62.0\n",
       "3324   Cristiano Ronaldo  (  captain  )   58.0\n",
       "2130                         Jan Koller   54.0\n",
       "2729        Robbie Keane  (  captain  )   53.0\n",
       "2959        Wayne Rooney  (  captain  )   52.0\n",
       "3051                     Lukas Podolski   48.0\n",
       "2772   Andriy Shevchenko  (  captain  )   48.0\n",
       "2317                      Thierry Henry   44.0"
      ]
     },
     "execution_count": 39,
     "metadata": {},
     "output_type": "execute_result"
    }
   ],
   "source": [
    "df_top10=df2[['PlayerName(Captain)','Goals']]\n",
    "\n",
    "#Sort players for the top 10 scorers\n",
    "df_top10_sorted=df_top10.sort_values(by='Goals', ascending=False).iloc[:10]\n",
    "df_top10_sorted"
   ]
  },
  {
   "cell_type": "code",
   "execution_count": 40,
   "metadata": {},
   "outputs": [
    {
     "data": {
      "image/png": "[encoded data removed]",
      "text/plain": [
       "<Figure size 864x432 with 1 Axes>"
      ]
     },
     "metadata": {
      "needs_background": "light"
     },
     "output_type": "display_data"
    }
   ],
   "source": [
    "#Visualisation code\n",
    "fig, ax = plt.subplots(figsize=(12,6))\n",
    "\n",
    "#Plot barplot\n",
    "sns.barplot(x=\"PlayerName(Captain)\",y= \"Goals\",data =df_top10_sorted , ax=ax , ci=None)\n",
    "\n",
    "#Set plot's characteristics\n",
    "ax.set(xlabel='', ylabel='Goals', title = \"Top 10 Goal Scorers of EuroCup\")\n",
    "\n",
    "plt.xticks(rotation=90)\n",
    "plt.show()"
   ]
  },
  {
   "cell_type": "markdown",
   "metadata": {},
   "source": [
    "#### Comments:\n"
   ]
  },
  {
   "cell_type": "markdown",
   "metadata": {},
   "source": [
    "There is Top 10 scorers of EuroCup and all of them are Forwards, so we can analyze that forwards are the scorers of each team."
   ]
  },
  {
   "cell_type": "markdown",
   "metadata": {},
   "source": [
    "#### 5.2 Analyze the attandence of Cup\n",
    "* We will prepare out table for barplot\n",
    "* Visualizate it in barplot"
   ]
  },
  {
   "cell_type": "code",
   "execution_count": 41,
   "metadata": {},
   "outputs": [
    {
     "data": {
      "text/html": [
       "<div>\n",
       "<style scoped>\n",
       "    .dataframe tbody tr th:only-of-type {\n",
       "        vertical-align: middle;\n",
       "    }\n",
       "\n",
       "    .dataframe tbody tr th {\n",
       "        vertical-align: top;\n",
       "    }\n",
       "\n",
       "    .dataframe thead th {\n",
       "        text-align: right;\n",
       "    }\n",
       "</style>\n",
       "<table border=\"1\" class=\"dataframe\">\n",
       "  <thead>\n",
       "    <tr style=\"text-align: right;\">\n",
       "      <th></th>\n",
       "      <th>Year</th>\n",
       "      <th>Attendance</th>\n",
       "    </tr>\n",
       "  </thead>\n",
       "  <tbody>\n",
       "    <tr>\n",
       "      <th>0</th>\n",
       "      <td>1960</td>\n",
       "      <td>78958</td>\n",
       "    </tr>\n",
       "    <tr>\n",
       "      <th>1</th>\n",
       "      <td>1964</td>\n",
       "      <td>156253</td>\n",
       "    </tr>\n",
       "    <tr>\n",
       "      <th>2</th>\n",
       "      <td>1968</td>\n",
       "      <td>260936</td>\n",
       "    </tr>\n",
       "    <tr>\n",
       "      <th>3</th>\n",
       "      <td>1972</td>\n",
       "      <td>106578</td>\n",
       "    </tr>\n",
       "    <tr>\n",
       "      <th>4</th>\n",
       "      <td>1976</td>\n",
       "      <td>106087</td>\n",
       "    </tr>\n",
       "    <tr>\n",
       "      <th>5</th>\n",
       "      <td>1980</td>\n",
       "      <td>350655</td>\n",
       "    </tr>\n",
       "    <tr>\n",
       "      <th>6</th>\n",
       "      <td>1984</td>\n",
       "      <td>599655</td>\n",
       "    </tr>\n",
       "    <tr>\n",
       "      <th>7</th>\n",
       "      <td>1988</td>\n",
       "      <td>849844</td>\n",
       "    </tr>\n",
       "    <tr>\n",
       "      <th>8</th>\n",
       "      <td>1992</td>\n",
       "      <td>430241</td>\n",
       "    </tr>\n",
       "    <tr>\n",
       "      <th>9</th>\n",
       "      <td>1996</td>\n",
       "      <td>1276171</td>\n",
       "    </tr>\n",
       "    <tr>\n",
       "      <th>10</th>\n",
       "      <td>2000</td>\n",
       "      <td>1124643</td>\n",
       "    </tr>\n",
       "    <tr>\n",
       "      <th>11</th>\n",
       "      <td>2004</td>\n",
       "      <td>1150802</td>\n",
       "    </tr>\n",
       "    <tr>\n",
       "      <th>12</th>\n",
       "      <td>2008</td>\n",
       "      <td>1143990</td>\n",
       "    </tr>\n",
       "    <tr>\n",
       "      <th>13</th>\n",
       "      <td>2012</td>\n",
       "      <td>1440896</td>\n",
       "    </tr>\n",
       "    <tr>\n",
       "      <th>14</th>\n",
       "      <td>2016</td>\n",
       "      <td>2427303</td>\n",
       "    </tr>\n",
       "  </tbody>\n",
       "</table>\n",
       "</div>"
      ],
      "text/plain": [
       "    Year  Attendance\n",
       "0   1960       78958\n",
       "1   1964      156253\n",
       "2   1968      260936\n",
       "3   1972      106578\n",
       "4   1976      106087\n",
       "5   1980      350655\n",
       "6   1984      599655\n",
       "7   1988      849844\n",
       "8   1992      430241\n",
       "9   1996     1276171\n",
       "10  2000     1124643\n",
       "11  2004     1150802\n",
       "12  2008     1143990\n",
       "13  2012     1440896\n",
       "14  2016     2427303"
      ]
     },
     "execution_count": 41,
     "metadata": {},
     "output_type": "execute_result"
    }
   ],
   "source": [
    "#Preparing code and taking only attendace and Year\n",
    "df_att=df1[['Attendance','Year']]\n",
    "\n",
    "#Group rows by Year and sum\n",
    "df_att_grouped = df_att.groupby(\"Year\", as_index = False).sum()\n",
    "df_att_grouped"
   ]
  },
  {
   "cell_type": "code",
   "execution_count": 90,
   "metadata": {},
   "outputs": [
    {
     "data": {
      "image/png": "[encoded data removed]",
      "text/plain": [
       "<Figure size 864x432 with 1 Axes>"
      ]
     },
     "metadata": {
      "needs_background": "light"
     },
     "output_type": "display_data"
    }
   ],
   "source": [
    "#Visualisation code\n",
    "fig, ax = plt.subplots(figsize=(12,6))\n",
    "\n",
    "#Plot barplot\n",
    "sns.barplot(x=\"Year\",y= \"Attendance\",data =df_att_grouped , ax=ax , ci=None)\n",
    "\n",
    "#Set plot's characteristics\n",
    "ax.set(xlabel='', ylabel='Attendance(Million)')\n",
    "\n",
    "plt.xticks(rotation=90)\n",
    "plt.show()"
   ]
  },
  {
   "cell_type": "markdown",
   "metadata": {},
   "source": [
    "#### Comments:"
   ]
  },
  {
   "cell_type": "markdown",
   "metadata": {},
   "source": [
    "The attendance of EuroCup is growing and we can analyze that attendance may connect with historical situations, because in 1992 the attendance was too small, even if it starts constantly grow after 1980. In the 2016 was record attendace, it may connect with more easy travel around the world."
   ]
  },
  {
   "cell_type": "markdown",
   "metadata": {},
   "source": [
    "#### 5.3 Analyze away team goals per match\n",
    "* We will prepare out table for scatterplot\n",
    "* Visualizate it in scatterlot"
   ]
  },
  {
   "cell_type": "code",
   "execution_count": 86,
   "metadata": {},
   "outputs": [
    {
     "name": "stdout",
     "output_type": "stream",
     "text": [
      "                TeamName  AwayTeamGoals\n",
      "0                Albania       0.500000\n",
      "1                Austria       0.500000\n",
      "2                Belgium       1.111111\n",
      "3               Bulgaria       0.750000\n",
      "4                    CIS       0.000000\n",
      "5                Croatia       1.222222\n",
      "6         Czech Republic       1.230769\n",
      "7         Czechoslovakia       2.000000\n",
      "8                Denmark       0.846154\n",
      "9                England       1.411765\n",
      "10         FR Yugoslavia       1.000000\n",
      "11                France       1.066667\n",
      "12               Germany       1.294118\n",
      "13                Greece       1.142857\n",
      "14               Hungary       1.333333\n",
      "15               Iceland       1.666667\n",
      "16                 Italy       0.833333\n",
      "17                Latvia       0.500000\n",
      "18           Netherlands       1.466667\n",
      "19      Northern Ireland       0.666667\n",
      "20                Norway       0.500000\n",
      "21                Poland       0.500000\n",
      "22              Portugal       1.388889\n",
      "23   Republic of Ireland       0.500000\n",
      "24               Romania       0.777778\n",
      "25                Russia       1.000000\n",
      "26              Scotland       0.000000\n",
      "27              Slovakia       1.000000\n",
      "28              Slovenia       3.000000\n",
      "29          Soviet Union       1.300000\n",
      "30                 Spain       1.272727\n",
      "31                Sweden       1.000000\n",
      "32                Turkey       0.875000\n",
      "33               Ukraine       0.000000\n",
      "34                 Wales       1.333333\n",
      "35          West Germany       1.833333\n",
      "36            Yugoslavia       1.375000\n",
      "37           Switzerland       0.600000\n"
     ]
    }
   ],
   "source": [
    "#Preparing code and taking only goals and teams\n",
    "df_ATG=df1[['AwayTeamGoals','AwayTeamName']]\n",
    "\n",
    "#Group rows by Team Name\n",
    "df_ATG_grouped = df_ATG.groupby(\"AwayTeamName\", as_index = False).mean().rename(columns={'AwayTeamName':'TeamName'})\n",
    "print(df_ATG_grouped)\n"
   ]
  },
  {
   "cell_type": "code",
   "execution_count": 70,
   "metadata": {},
   "outputs": [
    {
     "data": {
      "text/plain": [
       "False"
      ]
     },
     "execution_count": 70,
     "metadata": {},
     "output_type": "execute_result"
    }
   ],
   "source": [
    "df_HTG_grouped.empty"
   ]
  },
  {
   "cell_type": "code",
   "execution_count": 88,
   "metadata": {
    "scrolled": false
   },
   "outputs": [
    {
     "data": {
      "image/png": "[encoded data removed]",
      "text/plain": [
       "<Figure size 720x360 with 1 Axes>"
      ]
     },
     "metadata": {
      "needs_background": "light"
     },
     "output_type": "display_data"
    }
   ],
   "source": [
    "#Changing the size of graph\n",
    "fig, ax = plt.subplots(figsize=(10,5))\n",
    "sns.scatterplot(data=df_ATG_grouped, x=\"TeamName\", y=\"AwayTeamGoals\")\n",
    "#Giving the name for axis\n",
    "ax.set_title('Team')\n",
    "ax.set_ylabel('GoalsPerMatch')\n",
    "#Showing the graph\n",
    "plt.xticks(rotation=90)\n",
    "plt.show()"
   ]
  },
  {
   "cell_type": "markdown",
   "metadata": {},
   "source": [
    "#### Comments:\n",
    "As we can see, there is avereage goals of each team per match. Some teams score more, some of them not so much. "
   ]
  },
  {
   "cell_type": "markdown",
   "metadata": {},
   "source": [
    "#### 5.4 Analyze home team goals per match\n",
    "* We will prepare out table for scatterplot\n",
    "* Visualizate it in scatterlot"
   ]
  },
  {
   "cell_type": "code",
   "execution_count": 87,
   "metadata": {},
   "outputs": [
    {
     "name": "stdout",
     "output_type": "stream",
     "text": [
      "                TeamName  HomeTeamGoals\n",
      "0               Albania        0.000000\n",
      "1               Austria        0.250000\n",
      "2               Belgium        1.500000\n",
      "3              Bulgaria        0.500000\n",
      "4                   CIS        1.000000\n",
      "5               Croatia        1.333333\n",
      "6        Czech Republic        1.272727\n",
      "7        Czechoslovakia        1.333333\n",
      "8               Denmark        1.357143\n",
      "9               England        1.142857\n",
      "10        FR Yugoslavia        3.000000\n",
      "11               France        1.916667\n",
      "12              Germany        1.470588\n",
      "13               Greece        0.666667\n",
      "14              Hungary        1.400000\n",
      "15              Iceland        1.500000\n",
      "16                Italy        1.200000\n",
      "17               Latvia        0.000000\n",
      "18          Netherlands        1.750000\n",
      "19     Northern Ireland        0.000000\n",
      "20               Norway        0.000000\n",
      "21               Poland        0.800000\n",
      "22             Portugal        1.411765\n",
      "23  Republic of Ireland        0.750000\n",
      "24              Romania        0.428571\n",
      "25               Russia        1.333333\n",
      "26             Scotland        1.000000\n",
      "27             Slovakia        0.000000\n",
      "28             Slovenia        0.500000\n",
      "29         Soviet Union        1.333333\n",
      "30                Spain        1.500000\n",
      "31               Sweden        1.454545\n",
      "32         Switzerland         0.625000\n",
      "33               Turkey        0.857143\n",
      "34              Ukraine        0.500000\n",
      "35                Wales        2.000000\n",
      "36         West Germany        1.555556\n",
      "37           Yugoslavia        1.500000\n"
     ]
    }
   ],
   "source": [
    "#Preparing code and taking only goals and teams\n",
    "df_HTG=df1[['HomeTeamGoals','HomeTeamName']]\n",
    "\n",
    "#Grouping them by Team Name\n",
    "df_HTG_grouped = df_HTG.groupby(\"HomeTeamName\", as_index = False).mean().rename(columns={'HomeTeamName':'TeamName'})\n",
    "print(df_HTG_grouped)"
   ]
  },
  {
   "cell_type": "code",
   "execution_count": 83,
   "metadata": {},
   "outputs": [
    {
     "data": {
      "image/png": "[encoded data removed]",
      "text/plain": [
       "<Figure size 720x360 with 1 Axes>"
      ]
     },
     "metadata": {
      "needs_background": "light"
     },
     "output_type": "display_data"
    }
   ],
   "source": [
    "#Changing the size of graph\n",
    "fig, ax = plt.subplots(figsize=(10,5))\n",
    "sns.scatterplot(data=df_HTG_grouped, x=\"TeamName\", y=\"HomeTeamGoals\")\n",
    "#Giving the name for axis\n",
    "ax.set_title('Team')\n",
    "ax.set_ylabel('GoalsPerMatch')\n",
    "#Showing the graph\n",
    "plt.xticks(rotation=90)\n",
    "plt.show()"
   ]
  },
  {
   "cell_type": "markdown",
   "metadata": {},
   "source": [
    "#### Comments:\n",
    "There ir Home goals, if we compare the two scatterplots, here some changes, so we can conclude that some teams plyas better when they are in motherland, other plays better out of their country."
   ]
  },
  {
   "cell_type": "markdown",
   "metadata": {},
   "source": [
    "#### 5.5 Analyze the most frequent positions\n",
    "* We will prepare out table for barplot\n",
    "* Visualizate it in barplot"
   ]
  },
  {
   "cell_type": "code",
   "execution_count": 127,
   "metadata": {},
   "outputs": [
    {
     "data": {
      "text/html": [
       "<div>\n",
       "<style scoped>\n",
       "    .dataframe tbody tr th:only-of-type {\n",
       "        vertical-align: middle;\n",
       "    }\n",
       "\n",
       "    .dataframe tbody tr th {\n",
       "        vertical-align: top;\n",
       "    }\n",
       "\n",
       "    .dataframe thead th {\n",
       "        text-align: right;\n",
       "    }\n",
       "</style>\n",
       "<table border=\"1\" class=\"dataframe\">\n",
       "  <thead>\n",
       "    <tr style=\"text-align: right;\">\n",
       "      <th></th>\n",
       "      <th>Position</th>\n",
       "      <th>PlayerName(Captain)</th>\n",
       "    </tr>\n",
       "  </thead>\n",
       "  <tbody>\n",
       "    <tr>\n",
       "      <th>0</th>\n",
       "      <td>DF</td>\n",
       "      <td>1092</td>\n",
       "    </tr>\n",
       "    <tr>\n",
       "      <th>1</th>\n",
       "      <td>FW</td>\n",
       "      <td>725</td>\n",
       "    </tr>\n",
       "    <tr>\n",
       "      <th>2</th>\n",
       "      <td>GK</td>\n",
       "      <td>438</td>\n",
       "    </tr>\n",
       "    <tr>\n",
       "      <th>3</th>\n",
       "      <td>MF</td>\n",
       "      <td>1155</td>\n",
       "    </tr>\n",
       "  </tbody>\n",
       "</table>\n",
       "</div>"
      ],
      "text/plain": [
       "  Position  PlayerName(Captain)\n",
       "0       DF                 1092\n",
       "1       FW                  725\n",
       "2       GK                  438\n",
       "3       MF                 1155"
      ]
     },
     "execution_count": 127,
     "metadata": {},
     "output_type": "execute_result"
    }
   ],
   "source": [
    "#Create a dataframe for analyzing Positions\n",
    "Pos_df = df2[[\"PlayerName(Captain)\", \"Position\"]]\n",
    "\n",
    "#Apply groupby on players to show only Position\n",
    "Pos_grouped = Pos_df.groupby(\"Position\", as_index = False).count()\n",
    "\n",
    "Pos_grouped"
   ]
  },
  {
   "cell_type": "code",
   "execution_count": 128,
   "metadata": {},
   "outputs": [
    {
     "data": {
      "image/png": "[encoded data removed]",
      "text/plain": [
       "<Figure size 864x432 with 1 Axes>"
      ]
     },
     "metadata": {
      "needs_background": "light"
     },
     "output_type": "display_data"
    }
   ],
   "source": [
    "#Visualisation code\n",
    "fig, ax = plt.subplots(figsize=(12,6))\n",
    "\n",
    "#Plot barplot\n",
    "sns.barplot(x=\"Position\",y= \"PlayerName(Captain)\",data =Pos_grouped , ax=ax , ci=None)\n",
    "\n",
    "#Set plot's characteristics\n",
    "ax.set(xlabel='', ylabel='Position', title='Positions')\n",
    "\n",
    "plt.xticks(rotation=90)\n",
    "plt.show()"
   ]
  },
  {
   "cell_type": "markdown",
   "metadata": {},
   "source": [
    "#### Comments:"
   ]
  },
  {
   "cell_type": "markdown",
   "metadata": {},
   "source": [
    "As we can see, the most frequent position is midfielded and this is because of teams plays always at least 3 midfielders, while goalkeepers are usually maximum 3 for whole team. "
   ]
  },
  {
   "cell_type": "markdown",
   "metadata": {},
   "source": [
    "## Conclusion:\n"
   ]
  },
  {
   "cell_type": "markdown",
   "metadata": {},
   "source": [
    "At the end, I can mark some findings in this project. \n",
    "\n",
    "As we can see, football popularity is only increasing and evidence is attendance which constantly increases. In addition, football is very intensive game if the most played number of Cups actually 4 and the best goalscorers are scored about 60 and more goals.\n",
    "\n",
    "Motherland not so helpful for all teams, because there is some teams which scored the most goals away from their country. In addition, even if all young players wants to be forwards, the most useful position is midfielder.\n"
   ]
  }
 ],
 "metadata": {
  "kernelspec": {
   "display_name": "Python 3",
   "language": "python",
   "name": "python3"
  },
  "language_info": {
   "codemirror_mode": {
    "name": "ipython",
    "version": 3
   },
   "file_extension": ".py",
   "mimetype": "text/x-python",
   "name": "python",
   "nbconvert_exporter": "python",
   "pygments_lexer": "ipython3",
   "version": "3.8.3"
  }
 },
 "nbformat": 4,
 "nbformat_minor": 4
}
